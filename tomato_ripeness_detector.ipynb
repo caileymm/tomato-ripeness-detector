{
  "nbformat": 4,
  "nbformat_minor": 0,
  "metadata": {
    "colab": {
      "provenance": [],
      "gpuType": "T4",
      "authorship_tag": "ABX9TyOpAK+19FdMWqh0KNGbKor7",
      "include_colab_link": true
    },
    "kernelspec": {
      "name": "python3",
      "display_name": "Python 3"
    },
    "language_info": {
      "name": "python"
    },
    "accelerator": "GPU"
  },
  "cells": [
    {
      "cell_type": "markdown",
      "metadata": {
        "id": "view-in-github",
        "colab_type": "text"
      },
      "source": [
        "<a href=\"https://colab.research.google.com/github/caileymm/tomato-ripeness-detector/blob/main/tomato_ripeness_detector.ipynb\" target=\"_parent\"><img src=\"https://colab.research.google.com/assets/colab-badge.svg\" alt=\"Open In Colab\"/></a>"
      ]
    },
    {
      "cell_type": "code",
      "metadata": {
        "colab": {
          "base_uri": "https://localhost:8080/"
        },
        "id": "a585d24a",
        "outputId": "02a91c39-cfe4-4619-871d-723048676c58"
      },
      "source": [
        "from google.colab import drive\n",
        "drive.mount('/content/drive/')"
      ],
      "execution_count": 1,
      "outputs": [
        {
          "output_type": "stream",
          "name": "stdout",
          "text": [
            "Drive already mounted at /content/drive/; to attempt to forcibly remount, call drive.mount(\"/content/drive/\", force_remount=True).\n"
          ]
        }
      ]
    },
    {
      "cell_type": "code",
      "metadata": {
        "colab": {
          "base_uri": "https://localhost:8080/"
        },
        "id": "8bec72ec",
        "outputId": "ffb00985-a857-4fc4-ca95-388a98616825",
        "collapsed": true
      },
      "source": [
        "# Resize images from datasets\n",
        "from PIL import Image\n",
        "import os\n",
        "\n",
        "base_path = '/content/drive/MyDrive/Colab Notebooks/datasets/'\n",
        "train_path = os.path.join(base_path, 'train')\n",
        "test_path = os.path.join(base_path, 'test')\n",
        "valid_path = os.path.join(base_path, 'valid')\n",
        "train_ripe_path = os.path.join(train_path, 'ripe')\n",
        "train_unripe_path = os.path.join(train_path, 'unripe')\n",
        "test_ripe_path = os.path.join(test_path, 'ripe')\n",
        "test_unripe_path = os.path.join(test_path, 'unripe')\n",
        "valid_ripe_path = os.path.join(valid_path, 'ripe')\n",
        "valid_unripe_path = os.path.join(valid_path, 'unripe')\n",
        "\n",
        "\n",
        "def process_image(image_path, data_type, is_ripe):\n",
        "    try:\n",
        "        # Determine the save directory\n",
        "        if data_type == 'test':\n",
        "          save_dir = os.path.join(base_path, 'test_resized')\n",
        "        elif data_type == 'train':\n",
        "          save_dir = os.path.join(base_path, 'train_resized')\n",
        "        elif data_type == 'valid':\n",
        "          save_dir = os.path.join(base_path, 'valid_resized')\n",
        "        else:\n",
        "            print(f\"Error: Invalid data_type '{data_type}'\")\n",
        "            return\n",
        "\n",
        "        if is_ripe:\n",
        "          save_dir = os.path.join(save_dir, 'ripe')\n",
        "        else:\n",
        "          save_dir = os.path.join(save_dir, 'unripe')\n",
        "\n",
        "        os.makedirs(save_dir, exist_ok=True) # Create directory if it doesn't exist\n",
        "\n",
        "        file_name = os.path.basename(image_path)\n",
        "        resized_image_path = os.path.join(save_dir, file_name)\n",
        "\n",
        "        # Check if the resized image already exists\n",
        "        if os.path.exists(resized_image_path):\n",
        "            return\n",
        "\n",
        "        # Open the image\n",
        "        img = Image.open(image_path)\n",
        "\n",
        "        # Convert to RGB if the image is in RGBA mode\n",
        "        if img.mode == 'RGBA':\n",
        "            img = img.convert('RGB')\n",
        "\n",
        "        # Perform a transformation (e.g., resize)\n",
        "        resized_img = img.resize((224, 224))\n",
        "\n",
        "        # Save transformed image\n",
        "        resized_img.save(resized_image_path)\n",
        "\n",
        "\n",
        "    except FileNotFoundError:\n",
        "        print(f\"Error: Image file not found at {image_path}.\")\n",
        "    except Exception as e:\n",
        "        print(f\"An error occurred processing {image_path}: {e}\")\n",
        "\n",
        "# Process images in train>ripe\n",
        "if os.path.exists(train_ripe_path):\n",
        "    print(f\"Processing images in {train_ripe_path}\")\n",
        "    for filename in os.listdir(train_ripe_path):\n",
        "        if filename.lower().endswith(('.png', '.jpg', '.jpeg')):\n",
        "            image_path = os.path.join(train_ripe_path, filename)\n",
        "            process_image(image_path, 'train', True)\n",
        "else:\n",
        "    print(f\"Error: Directory not found at {train_ripe_path}\")\n",
        "\n",
        "\n",
        "# Process images in train>unripe\n",
        "if os.path.exists(train_unripe_path):\n",
        "    print(f\"Processing images in {train_unripe_path}\")\n",
        "    for filename in os.listdir(train_unripe_path):\n",
        "        if filename.lower().endswith(('.png', '.jpg', '.jpeg')):\n",
        "            image_path = os.path.join(train_unripe_path, filename)\n",
        "            process_image(image_path, 'train', False)\n",
        "else:\n",
        "    print(f\"Error: Directory not found at {train_unripe_path}\")\n",
        "\n",
        "# Process images in test>ripe\n",
        "if os.path.exists(test_ripe_path):\n",
        "    print(f\"Processing images in {test_ripe_path}\")\n",
        "    for filename in os.listdir(test_ripe_path):\n",
        "        if filename.lower().endswith(('.png', '.jpg', '.jpeg')):\n",
        "            image_path = os.path.join(test_ripe_path, filename)\n",
        "            process_image(image_path, 'test', True)\n",
        "else:\n",
        "    print(f\"Error: Directory not found at {test_ripe_path}\")\n",
        "\n",
        "\n",
        "# Process images in test>unripe\n",
        "if os.path.exists(test_unripe_path):\n",
        "    print(f\"Processing images in {test_unripe_path}\")\n",
        "    for filename in os.listdir(test_unripe_path):\n",
        "        if filename.lower().endswith(('.png', '.jpg', '.jpeg')):\n",
        "            image_path = os.path.join(test_unripe_path, filename)\n",
        "            process_image(image_path, 'test', False)\n",
        "else:\n",
        "    print(f\"Error: Directory not found at {test_unripe_path}\")\n",
        "\n",
        "# Process images in valid>ripe\n",
        "if os.path.exists(valid_ripe_path):\n",
        "    print(f\"Processing images in {valid_ripe_path}\")\n",
        "    for filename in os.listdir(valid_ripe_path):\n",
        "        if filename.lower().endswith(('.png', '.jpg', '.jpeg')):\n",
        "            image_path = os.path.join(valid_ripe_path, filename)\n",
        "            process_image(image_path, 'valid', True)\n",
        "else:\n",
        "    print(f\"Error: Directory not found at {valid_ripe_path}\")\n",
        "\n",
        "\n",
        "# Process images in valid>unripe\n",
        "if os.path.exists(valid_unripe_path):\n",
        "    print(f\"Processing images in {valid_unripe_path}\")\n",
        "    for filename in os.listdir(valid_unripe_path):\n",
        "        if filename.lower().endswith(('.png', '.jpg', '.jpeg')):\n",
        "            image_path = os.path.join(valid_unripe_path, filename)\n",
        "            process_image(image_path, 'valid', False)\n",
        "else:\n",
        "    print(f\"Error: Directory not found at {valid_unripe_path}\")"
      ],
      "execution_count": 2,
      "outputs": [
        {
          "output_type": "stream",
          "name": "stdout",
          "text": [
            "Processing images in /content/drive/MyDrive/Colab Notebooks/datasets/train/ripe\n",
            "Processing images in /content/drive/MyDrive/Colab Notebooks/datasets/train/unripe\n",
            "Processing images in /content/drive/MyDrive/Colab Notebooks/datasets/test/ripe\n",
            "Processing images in /content/drive/MyDrive/Colab Notebooks/datasets/test/unripe\n",
            "Processing images in /content/drive/MyDrive/Colab Notebooks/datasets/valid/ripe\n",
            "Processing images in /content/drive/MyDrive/Colab Notebooks/datasets/valid/unripe\n"
          ]
        }
      ]
    },
    {
      "cell_type": "code",
      "source": [
        "# Install libraries from PyTorch and TorchVision\n",
        "%pip install torch torchvision torchaudio"
      ],
      "metadata": {
        "colab": {
          "base_uri": "https://localhost:8080/"
        },
        "id": "G7DZ-NU03UOt",
        "outputId": "3e50cd8b-7937-44d8-a455-f859a9f5b4ee"
      },
      "execution_count": 3,
      "outputs": [
        {
          "output_type": "stream",
          "name": "stdout",
          "text": [
            "Requirement already satisfied: torch in /usr/local/lib/python3.12/dist-packages (2.8.0+cu126)\n",
            "Requirement already satisfied: torchvision in /usr/local/lib/python3.12/dist-packages (0.23.0+cu126)\n",
            "Requirement already satisfied: torchaudio in /usr/local/lib/python3.12/dist-packages (2.8.0+cu126)\n",
            "Requirement already satisfied: filelock in /usr/local/lib/python3.12/dist-packages (from torch) (3.19.1)\n",
            "Requirement already satisfied: typing-extensions>=4.10.0 in /usr/local/lib/python3.12/dist-packages (from torch) (4.15.0)\n",
            "Requirement already satisfied: setuptools in /usr/local/lib/python3.12/dist-packages (from torch) (75.2.0)\n",
            "Requirement already satisfied: sympy>=1.13.3 in /usr/local/lib/python3.12/dist-packages (from torch) (1.13.3)\n",
            "Requirement already satisfied: networkx in /usr/local/lib/python3.12/dist-packages (from torch) (3.5)\n",
            "Requirement already satisfied: jinja2 in /usr/local/lib/python3.12/dist-packages (from torch) (3.1.6)\n",
            "Requirement already satisfied: fsspec in /usr/local/lib/python3.12/dist-packages (from torch) (2025.3.0)\n",
            "Requirement already satisfied: nvidia-cuda-nvrtc-cu12==12.6.77 in /usr/local/lib/python3.12/dist-packages (from torch) (12.6.77)\n",
            "Requirement already satisfied: nvidia-cuda-runtime-cu12==12.6.77 in /usr/local/lib/python3.12/dist-packages (from torch) (12.6.77)\n",
            "Requirement already satisfied: nvidia-cuda-cupti-cu12==12.6.80 in /usr/local/lib/python3.12/dist-packages (from torch) (12.6.80)\n",
            "Requirement already satisfied: nvidia-cudnn-cu12==9.10.2.21 in /usr/local/lib/python3.12/dist-packages (from torch) (9.10.2.21)\n",
            "Requirement already satisfied: nvidia-cublas-cu12==12.6.4.1 in /usr/local/lib/python3.12/dist-packages (from torch) (12.6.4.1)\n",
            "Requirement already satisfied: nvidia-cufft-cu12==11.3.0.4 in /usr/local/lib/python3.12/dist-packages (from torch) (11.3.0.4)\n",
            "Requirement already satisfied: nvidia-curand-cu12==10.3.7.77 in /usr/local/lib/python3.12/dist-packages (from torch) (10.3.7.77)\n",
            "Requirement already satisfied: nvidia-cusolver-cu12==11.7.1.2 in /usr/local/lib/python3.12/dist-packages (from torch) (11.7.1.2)\n",
            "Requirement already satisfied: nvidia-cusparse-cu12==12.5.4.2 in /usr/local/lib/python3.12/dist-packages (from torch) (12.5.4.2)\n",
            "Requirement already satisfied: nvidia-cusparselt-cu12==0.7.1 in /usr/local/lib/python3.12/dist-packages (from torch) (0.7.1)\n",
            "Requirement already satisfied: nvidia-nccl-cu12==2.27.3 in /usr/local/lib/python3.12/dist-packages (from torch) (2.27.3)\n",
            "Requirement already satisfied: nvidia-nvtx-cu12==12.6.77 in /usr/local/lib/python3.12/dist-packages (from torch) (12.6.77)\n",
            "Requirement already satisfied: nvidia-nvjitlink-cu12==12.6.85 in /usr/local/lib/python3.12/dist-packages (from torch) (12.6.85)\n",
            "Requirement already satisfied: nvidia-cufile-cu12==1.11.1.6 in /usr/local/lib/python3.12/dist-packages (from torch) (1.11.1.6)\n",
            "Requirement already satisfied: triton==3.4.0 in /usr/local/lib/python3.12/dist-packages (from torch) (3.4.0)\n",
            "Requirement already satisfied: numpy in /usr/local/lib/python3.12/dist-packages (from torchvision) (2.0.2)\n",
            "Requirement already satisfied: pillow!=8.3.*,>=5.3.0 in /usr/local/lib/python3.12/dist-packages (from torchvision) (11.3.0)\n",
            "Requirement already satisfied: mpmath<1.4,>=1.1.0 in /usr/local/lib/python3.12/dist-packages (from sympy>=1.13.3->torch) (1.3.0)\n",
            "Requirement already satisfied: MarkupSafe>=2.0 in /usr/local/lib/python3.12/dist-packages (from jinja2->torch) (3.0.2)\n"
          ]
        }
      ]
    },
    {
      "cell_type": "code",
      "metadata": {
        "id": "8f3f5ad6",
        "colab": {
          "base_uri": "https://localhost:8080/"
        },
        "collapsed": true,
        "outputId": "44a95ed6-41b8-4b34-9d67-6236051afa90"
      },
      "source": [
        "# Import libraries from PyTorch and TorchVision for data loading, model building, training, and evaluation.\n",
        "%pip install torch torchvision torchaudio\n",
        "import torch\n",
        "import torch.nn as nn\n",
        "import torch.optim as optim\n",
        "import torchvision.datasets\n",
        "import torchvision.transforms\n",
        "import torchvision.models\n",
        "from torch.utils.data import DataLoader"
      ],
      "execution_count": 4,
      "outputs": [
        {
          "output_type": "stream",
          "name": "stdout",
          "text": [
            "Requirement already satisfied: torch in /usr/local/lib/python3.12/dist-packages (2.8.0+cu126)\n",
            "Requirement already satisfied: torchvision in /usr/local/lib/python3.12/dist-packages (0.23.0+cu126)\n",
            "Requirement already satisfied: torchaudio in /usr/local/lib/python3.12/dist-packages (2.8.0+cu126)\n",
            "Requirement already satisfied: filelock in /usr/local/lib/python3.12/dist-packages (from torch) (3.19.1)\n",
            "Requirement already satisfied: typing-extensions>=4.10.0 in /usr/local/lib/python3.12/dist-packages (from torch) (4.15.0)\n",
            "Requirement already satisfied: setuptools in /usr/local/lib/python3.12/dist-packages (from torch) (75.2.0)\n",
            "Requirement already satisfied: sympy>=1.13.3 in /usr/local/lib/python3.12/dist-packages (from torch) (1.13.3)\n",
            "Requirement already satisfied: networkx in /usr/local/lib/python3.12/dist-packages (from torch) (3.5)\n",
            "Requirement already satisfied: jinja2 in /usr/local/lib/python3.12/dist-packages (from torch) (3.1.6)\n",
            "Requirement already satisfied: fsspec in /usr/local/lib/python3.12/dist-packages (from torch) (2025.3.0)\n",
            "Requirement already satisfied: nvidia-cuda-nvrtc-cu12==12.6.77 in /usr/local/lib/python3.12/dist-packages (from torch) (12.6.77)\n",
            "Requirement already satisfied: nvidia-cuda-runtime-cu12==12.6.77 in /usr/local/lib/python3.12/dist-packages (from torch) (12.6.77)\n",
            "Requirement already satisfied: nvidia-cuda-cupti-cu12==12.6.80 in /usr/local/lib/python3.12/dist-packages (from torch) (12.6.80)\n",
            "Requirement already satisfied: nvidia-cudnn-cu12==9.10.2.21 in /usr/local/lib/python3.12/dist-packages (from torch) (9.10.2.21)\n",
            "Requirement already satisfied: nvidia-cublas-cu12==12.6.4.1 in /usr/local/lib/python3.12/dist-packages (from torch) (12.6.4.1)\n",
            "Requirement already satisfied: nvidia-cufft-cu12==11.3.0.4 in /usr/local/lib/python3.12/dist-packages (from torch) (11.3.0.4)\n",
            "Requirement already satisfied: nvidia-curand-cu12==10.3.7.77 in /usr/local/lib/python3.12/dist-packages (from torch) (10.3.7.77)\n",
            "Requirement already satisfied: nvidia-cusolver-cu12==11.7.1.2 in /usr/local/lib/python3.12/dist-packages (from torch) (11.7.1.2)\n",
            "Requirement already satisfied: nvidia-cusparse-cu12==12.5.4.2 in /usr/local/lib/python3.12/dist-packages (from torch) (12.5.4.2)\n",
            "Requirement already satisfied: nvidia-cusparselt-cu12==0.7.1 in /usr/local/lib/python3.12/dist-packages (from torch) (0.7.1)\n",
            "Requirement already satisfied: nvidia-nccl-cu12==2.27.3 in /usr/local/lib/python3.12/dist-packages (from torch) (2.27.3)\n",
            "Requirement already satisfied: nvidia-nvtx-cu12==12.6.77 in /usr/local/lib/python3.12/dist-packages (from torch) (12.6.77)\n",
            "Requirement already satisfied: nvidia-nvjitlink-cu12==12.6.85 in /usr/local/lib/python3.12/dist-packages (from torch) (12.6.85)\n",
            "Requirement already satisfied: nvidia-cufile-cu12==1.11.1.6 in /usr/local/lib/python3.12/dist-packages (from torch) (1.11.1.6)\n",
            "Requirement already satisfied: triton==3.4.0 in /usr/local/lib/python3.12/dist-packages (from torch) (3.4.0)\n",
            "Requirement already satisfied: numpy in /usr/local/lib/python3.12/dist-packages (from torchvision) (2.0.2)\n",
            "Requirement already satisfied: pillow!=8.3.*,>=5.3.0 in /usr/local/lib/python3.12/dist-packages (from torchvision) (11.3.0)\n",
            "Requirement already satisfied: mpmath<1.4,>=1.1.0 in /usr/local/lib/python3.12/dist-packages (from sympy>=1.13.3->torch) (1.3.0)\n",
            "Requirement already satisfied: MarkupSafe>=2.0 in /usr/local/lib/python3.12/dist-packages (from jinja2->torch) (3.0.2)\n"
          ]
        }
      ]
    },
    {
      "cell_type": "code",
      "metadata": {
        "colab": {
          "base_uri": "https://localhost:8080/"
        },
        "id": "da546729",
        "outputId": "6e0e28b9-d322-43c9-87bd-6ec1c562012f"
      },
      "source": [
        "# Define the root directory for the resized datasets\n",
        "resized_base_path = '/content/drive/MyDrive/Colab Notebooks/datasets/'\n",
        "train_resized_path = os.path.join(resized_base_path, 'train_resized')\n",
        "test_resized_path = os.path.join(resized_base_path, 'test_resized')\n",
        "valid_resized_path = os.path.join(resized_base_path, 'valid_resized')\n",
        "\n",
        "# Define image transformations for the training dataset\n",
        "train_transforms = torchvision.transforms.Compose([\n",
        "    torchvision.transforms.Resize((224, 224)), # Resize to 224x224\n",
        "    torchvision.transforms.ToTensor(), # Convert to tensor\n",
        "    torchvision.transforms.Normalize(mean=[0.485, 0.456, 0.406], std=[0.229, 0.224, 0.225]) # Normalize with ImageNet stats\n",
        "])\n",
        "\n",
        "# Define image transformations for the validation and test datasets\n",
        "test_valid_transforms = torchvision.transforms.Compose([\n",
        "    torchvision.transforms.Resize((224, 224)), # Resize to 224x224\n",
        "    torchvision.transforms.ToTensor(), # Convert to tensor\n",
        "    torchvision.transforms.Normalize(mean=[0.485, 0.456, 0.406], std=[0.229, 0.224, 0.225]) # Normalize with ImageNet stats\n",
        "])\n",
        "\n",
        "# Create ImageFolder datasets\n",
        "train_dataset = torchvision.datasets.ImageFolder(root=train_resized_path, transform=train_transforms)\n",
        "valid_dataset = torchvision.datasets.ImageFolder(root=valid_resized_path, transform=test_valid_transforms)\n",
        "test_dataset = torchvision.datasets.ImageFolder(root=test_resized_path, transform=test_valid_transforms)\n",
        "\n",
        "print(f\"Number of images in training dataset: {len(train_dataset)}\")\n",
        "print(f\"Number of images in validation dataset: {len(valid_dataset)}\")\n",
        "print(f\"Number of images in test dataset: {len(test_dataset)}\")\n",
        "\n",
        "batch_size = 32\n",
        "train_dataloader = DataLoader(train_dataset, batch_size=batch_size, shuffle=True)\n",
        "valid_dataloader = DataLoader(valid_dataset, batch_size=batch_size, shuffle=False)\n",
        "test_dataloader = DataLoader(test_dataset, batch_size=batch_size, shuffle=False)\n",
        "\n",
        "print(f\"Training batches: {len(train_dataloader)}\")\n",
        "print(f\"Validation batches: {len(valid_dataloader)}\")\n",
        "print(f\"Test batches: {len(test_dataloader)}\")"
      ],
      "execution_count": 5,
      "outputs": [
        {
          "output_type": "stream",
          "name": "stdout",
          "text": [
            "Number of images in training dataset: 124\n",
            "Number of images in validation dataset: 26\n",
            "Number of images in test dataset: 27\n",
            "Training batches: 4\n",
            "Validation batches: 1\n",
            "Test batches: 1\n"
          ]
        }
      ]
    },
    {
      "cell_type": "code",
      "metadata": {
        "colab": {
          "base_uri": "https://localhost:8080/"
        },
        "id": "fecef5ce",
        "outputId": "b60d058d-ffd0-40e8-947c-87286b1b9edc"
      },
      "source": [
        "# Load a pre-trained ResNet model (e.g., ResNet50)\n",
        "model = torchvision.models.resnet50(weights=\"ResNet50_Weights.DEFAULT\")\n",
        "\n",
        "# Freeze all the parameters in the network\n",
        "for param in model.parameters():\n",
        "    param.requires_grad = False\n",
        "\n",
        "# Get the number of input features for the classifier layer\n",
        "num_ftrs = model.fc.in_features\n",
        "\n",
        "# Replace the classifier layer with a new one\n",
        "# Assuming 2 classes: ripe and unripe\n",
        "model.fc = nn.Linear(num_ftrs, 2)\n",
        "\n",
        "# Define the device to train on\n",
        "device = torch.device(\"cuda\" if torch.cuda.is_available() else \"cpu\")\n",
        "model.to(device)\n",
        "\n",
        "print(\"Pre-trained ResNet model loaded and modified.\")\n",
        "print(f\"Using device: {device}\")"
      ],
      "execution_count": 6,
      "outputs": [
        {
          "output_type": "stream",
          "name": "stdout",
          "text": [
            "Pre-trained ResNet model loaded and modified.\n",
            "Using device: cuda\n"
          ]
        }
      ]
    },
    {
      "cell_type": "code",
      "metadata": {
        "id": "5b9a9893"
      },
      "source": [
        "# Define loss function and optimizer\n",
        "criterion = nn.CrossEntropyLoss()\n",
        "optimizer = optim.Adam(model.fc.parameters(), lr=0.001) # Only optimize the new classifier layer"
      ],
      "execution_count": 7,
      "outputs": []
    },
    {
      "cell_type": "code",
      "source": [
        "%pip install matplotlib"
      ],
      "metadata": {
        "colab": {
          "base_uri": "https://localhost:8080/"
        },
        "collapsed": true,
        "id": "j6ayO_GU4CeI",
        "outputId": "758f1838-8a8a-4cdd-a3b2-24de148db250"
      },
      "execution_count": 8,
      "outputs": [
        {
          "output_type": "stream",
          "name": "stdout",
          "text": [
            "Requirement already satisfied: matplotlib in /usr/local/lib/python3.12/dist-packages (3.10.0)\n",
            "Requirement already satisfied: contourpy>=1.0.1 in /usr/local/lib/python3.12/dist-packages (from matplotlib) (1.3.3)\n",
            "Requirement already satisfied: cycler>=0.10 in /usr/local/lib/python3.12/dist-packages (from matplotlib) (0.12.1)\n",
            "Requirement already satisfied: fonttools>=4.22.0 in /usr/local/lib/python3.12/dist-packages (from matplotlib) (4.59.2)\n",
            "Requirement already satisfied: kiwisolver>=1.3.1 in /usr/local/lib/python3.12/dist-packages (from matplotlib) (1.4.9)\n",
            "Requirement already satisfied: numpy>=1.23 in /usr/local/lib/python3.12/dist-packages (from matplotlib) (2.0.2)\n",
            "Requirement already satisfied: packaging>=20.0 in /usr/local/lib/python3.12/dist-packages (from matplotlib) (25.0)\n",
            "Requirement already satisfied: pillow>=8 in /usr/local/lib/python3.12/dist-packages (from matplotlib) (11.3.0)\n",
            "Requirement already satisfied: pyparsing>=2.3.1 in /usr/local/lib/python3.12/dist-packages (from matplotlib) (3.2.3)\n",
            "Requirement already satisfied: python-dateutil>=2.7 in /usr/local/lib/python3.12/dist-packages (from matplotlib) (2.9.0.post0)\n",
            "Requirement already satisfied: six>=1.5 in /usr/local/lib/python3.12/dist-packages (from python-dateutil>=2.7->matplotlib) (1.17.0)\n"
          ]
        }
      ]
    },
    {
      "cell_type": "code",
      "metadata": {
        "colab": {
          "base_uri": "https://localhost:8080/",
          "height": 1000
        },
        "id": "1bc7f023",
        "outputId": "713afbe7-3c2a-44a6-edd2-590f0a89ca9c"
      },
      "source": [
        "import matplotlib.pyplot as plt\n",
        "\n",
        "# Training loop\n",
        "num_epochs = 10 # You can adjust this number\n",
        "train_losses = []\n",
        "val_accuracies = []\n",
        "\n",
        "for epoch in range(num_epochs):\n",
        "    model.train()  # Set the model to training mode\n",
        "    running_loss = 0.0\n",
        "    for inputs, labels in train_dataloader:\n",
        "        inputs, labels = inputs.to(device), labels.to(device)\n",
        "\n",
        "        optimizer.zero_grad()  # Zero the gradients\n",
        "        outputs = model(inputs)  # Forward pass\n",
        "        loss = criterion(outputs, labels)  # Calculate loss\n",
        "        loss.backward()  # Backpropagate\n",
        "        optimizer.step()  # Update weights\n",
        "\n",
        "        running_loss += loss.item() * inputs.size(0)\n",
        "\n",
        "    epoch_loss = running_loss / len(train_dataset)\n",
        "    print(f\"Epoch {epoch+1}/{num_epochs}, Loss: {epoch_loss:.4f}\")\n",
        "    train_losses.append(epoch_loss)\n",
        "\n",
        "    # Validation step\n",
        "    model.eval() # Set the model to evaluation mode\n",
        "    correct = 0\n",
        "    total = 0\n",
        "    with torch.no_grad(): # Disable gradient calculation for validation\n",
        "        for inputs, labels in valid_dataloader:\n",
        "            inputs, labels = inputs.to(device), labels.to(device)\n",
        "            outputs = model(inputs)\n",
        "            _, predicted = torch.max(outputs.data, 1)\n",
        "            total += labels.size(0)\n",
        "            correct += (predicted == labels).sum().item()\n",
        "\n",
        "    valid_accuracy = 100 * correct / total\n",
        "    print(f\"Validation Accuracy: {valid_accuracy:.2f}%\")\n",
        "    val_accuracies.append(valid_accuracy)\n",
        "\n",
        "print(\"Training finished.\")\n",
        "\n",
        "# Plot training loss\n",
        "plt.figure(figsize=(12, 5))\n",
        "\n",
        "plt.subplot(1, 2, 1)\n",
        "plt.plot(range(1, num_epochs+1), train_losses, 'b-', linewidth=2)\n",
        "plt.title('Training Loss')\n",
        "plt.xlabel('Epoch')\n",
        "plt.ylabel('Loss')\n",
        "plt.grid(True)\n",
        "\n",
        "# Plot validation accuracy\n",
        "plt.subplot(1, 2, 2)\n",
        "plt.plot(range(1, num_epochs+1), val_accuracies, 'r-', linewidth=2)\n",
        "plt.title('Validation Accuracy')\n",
        "plt.xlabel('Epoch')\n",
        "plt.ylabel('Accuracy (%)')\n",
        "plt.grid(True)\n",
        "\n",
        "plt.tight_layout()\n",
        "plt.show()\n",
        "\n",
        "# Evaluate the model on the test set\n",
        "model.eval() # Set the model to evaluation mode\n",
        "correct = 0\n",
        "total = 0\n",
        "with torch.no_grad(): # Disable gradient calculation for testing\n",
        "    for inputs, labels in test_dataloader:\n",
        "        inputs, labels = inputs.to(device), labels.to(device)\n",
        "        outputs = model(inputs)\n",
        "        _, predicted = torch.max(outputs.data, 1)\n",
        "        total += labels.size(0)\n",
        "        correct += (predicted == labels).sum().item()\n",
        "\n",
        "test_accuracy = 100 * correct / total\n",
        "print(f\"Test Accuracy: {test_accuracy:.2f}%\")\n",
        "\n",
        "# Show final results in a bar chart\n",
        "plt.figure(figsize=(8, 6))\n",
        "categories = ['Training', 'Validation', 'Test']\n",
        "accuracies = [max(val_accuracies) if val_accuracies else 0, max(val_accuracies) if val_accuracies else 0, test_accuracy]\n",
        "colors = ['blue', 'green', 'red']\n",
        "\n",
        "bars = plt.bar(categories, accuracies, color=colors, alpha=0.7)\n",
        "plt.title('Model Performance Summary')\n",
        "plt.ylabel('Accuracy (%)')\n",
        "plt.ylim(0, 100)\n",
        "\n",
        "# Add value labels on bars\n",
        "for bar, accuracy in zip(bars, accuracies):\n",
        "    plt.text(bar.get_x() + bar.get_width()/2, bar.get_height() + 1,\n",
        "             f'{accuracy:.1f}%', ha='center', va='bottom')\n",
        "\n",
        "plt.grid(True, alpha=0.3)\n",
        "plt.show()"
      ],
      "execution_count": 9,
      "outputs": [
        {
          "output_type": "stream",
          "name": "stdout",
          "text": [
            "Epoch 1/10, Loss: 0.6560\n",
            "Validation Accuracy: 76.92%\n",
            "Epoch 2/10, Loss: 0.5199\n",
            "Validation Accuracy: 96.15%\n",
            "Epoch 3/10, Loss: 0.4223\n",
            "Validation Accuracy: 96.15%\n",
            "Epoch 4/10, Loss: 0.3476\n",
            "Validation Accuracy: 96.15%\n",
            "Epoch 5/10, Loss: 0.3153\n",
            "Validation Accuracy: 100.00%\n",
            "Epoch 6/10, Loss: 0.2584\n",
            "Validation Accuracy: 100.00%\n",
            "Epoch 7/10, Loss: 0.2442\n",
            "Validation Accuracy: 100.00%\n",
            "Epoch 8/10, Loss: 0.2136\n",
            "Validation Accuracy: 100.00%\n",
            "Epoch 9/10, Loss: 0.1870\n",
            "Validation Accuracy: 100.00%\n",
            "Epoch 10/10, Loss: 0.1599\n",
            "Validation Accuracy: 100.00%\n",
            "Training finished.\n"
          ]
        },
        {
          "output_type": "display_data",
          "data": {
            "text/plain": [
              "<Figure size 1200x500 with 2 Axes>"
            ],
            "image/png": "[encoded data removed]"
          },
          "metadata": {}
        },
        {
          "output_type": "stream",
          "name": "stdout",
          "text": [
            "Test Accuracy: 96.30%\n"
          ]
        },
        {
          "output_type": "display_data",
          "data": {
            "text/plain": [
              "<Figure size 800x600 with 1 Axes>"
            ],
            "image/png": "[encoded data removed]"
          },
          "metadata": {}
        }
      ]
    }
  ]
}